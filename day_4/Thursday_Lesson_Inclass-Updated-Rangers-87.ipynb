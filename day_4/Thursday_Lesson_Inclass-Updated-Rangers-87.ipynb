{
 "cells": [
  {
   "cell_type": "markdown",
   "metadata": {},
   "source": [
    "# User-Defined Functions & Scoping"
   ]
  },
  {
   "cell_type": "markdown",
   "metadata": {},
   "source": [
    "## Tasks Today:\n",
    "\n",
    "\n",
    "1) Functions <br>\n",
    " &nbsp;&nbsp;&nbsp;&nbsp; a) User-Defined vs. Built-In Functions <br>\n",
    " &nbsp;&nbsp;&nbsp;&nbsp; b) Accepting Parameters <br>\n",
    " &nbsp;&nbsp;&nbsp;&nbsp; c) Default Parameters <br>\n",
    " &nbsp;&nbsp;&nbsp;&nbsp; d) Making an Argument Optional <br>\n",
    " &nbsp;&nbsp;&nbsp;&nbsp; e) Keyword Arguments <br>\n",
    " &nbsp;&nbsp;&nbsp;&nbsp; f) Returning Values <br>\n",
    " &nbsp;&nbsp;&nbsp;&nbsp; g) *args <br>\n",
    " &nbsp;&nbsp;&nbsp;&nbsp; h) Docstring <br>\n",
    " &nbsp;&nbsp;&nbsp;&nbsp; i) Using a User Function in a Loop <br>\n",
    "2) Scope\n",
    "3) Creating more User-Defined functions "
   ]
  },
  {
   "cell_type": "markdown",
   "metadata": {},
   "source": [
    "\n",
    "## Functions"
   ]
  },
  {
   "cell_type": "markdown",
   "metadata": {},
   "source": [
    "##### User-Defined vs. Built-In Functions"
   ]
  },
  {
   "cell_type": "code",
   "execution_count": 2,
   "metadata": {},
   "outputs": [
    {
     "name": "stdout",
     "output_type": "stream",
     "text": [
      "Hello\n",
      "<function say_hello at 0x7f9db0011550>\n",
      "Hello World!\n"
     ]
    }
   ],
   "source": [
    "# Built in Functions\n",
    "print(\"Hello\")\n",
    "\n",
    "# User-Defined Functions\n",
    "def say_hello():\n",
    "    return \"Hello World!\"\n",
    "\n",
    "# show the function call in memory\n",
    "print(say_hello)\n",
    "\n",
    "# calling a function\n",
    "print(say_hello())\n"
   ]
  },
  {
   "cell_type": "markdown",
   "metadata": {},
   "source": [
    "##### Accepting Parameters"
   ]
  },
  {
   "cell_type": "code",
   "execution_count": 5,
   "metadata": {
    "scrolled": true
   },
   "outputs": [
    {
     "name": "stdout",
     "output_type": "stream",
     "text": [
      "Hello my last name is Terrell and my first name is McKinney\n",
      "Hello my last name is McKinney and my first name is Terrell\n"
     ]
    }
   ],
   "source": [
    "# Order always matters\n",
    "# a variable can be any type of object\n",
    "\n",
    "first_name = \"Terrell\"\n",
    "last_name = \"McKinney\"\n",
    "\n",
    "def print_full_name(first, last):\n",
    "    return f\"Hello my last name is {last} and my first name is {first}\"\n",
    "\n",
    "# order matters \n",
    "print(print_full_name(last_name, first_name))\n",
    "\n",
    "print(print_full_name(first_name, last_name))\n",
    "\n",
    "\n",
    "\n"
   ]
  },
  {
   "cell_type": "markdown",
   "metadata": {},
   "source": [
    "##### Default Parameters"
   ]
  },
  {
   "cell_type": "code",
   "execution_count": 7,
   "metadata": {},
   "outputs": [
    {
     "name": "stdout",
     "output_type": "stream",
     "text": [
      "Your birthday is the 5th day of July and you were born in 2022\n"
     ]
    }
   ],
   "source": [
    "# Default parameters must come after non-default parameters at all times\n",
    "\n",
    "def june_bday(day, year, month= \"June\"):\n",
    "    return f\"Your birthday is the {day}th day of {month} and you were born in {year}\"\n",
    "\n",
    "print(june_bday(5,2022, \"July\"))\n"
   ]
  },
  {
   "cell_type": "code",
   "execution_count": null,
   "metadata": {},
   "outputs": [],
   "source": []
  },
  {
   "cell_type": "markdown",
   "metadata": {},
   "source": [
    "##### Making an Argument Optional"
   ]
  },
  {
   "cell_type": "code",
   "execution_count": 9,
   "metadata": {},
   "outputs": [
    {
     "name": "stdout",
     "output_type": "stream",
     "text": [
      "Hi Mr. Ed.\n",
      "Hello Mr. Seabiscuit Ed.\n"
     ]
    }
   ],
   "source": [
    "# an argument that defaults to nothing\n",
    "def print_horse_name(first, middle= \"\", last=\"Ed\"):\n",
    "    if middle:\n",
    "        return f\"Hello {first} {middle} {last}.\"\n",
    "    else:\n",
    "        return f\"Hi {first} {last}.\"\n",
    "\n",
    "print(print_horse_name(\"Mr.\"))\n",
    "print(print_horse_name(\"Mr.\", \"Seabiscuit\"))\n",
    "\n"
   ]
  },
  {
   "cell_type": "markdown",
   "metadata": {},
   "source": [
    "##### Keyword Arguments"
   ]
  },
  {
   "cell_type": "code",
   "execution_count": 11,
   "metadata": {},
   "outputs": [
    {
     "name": "stdout",
     "output_type": "stream",
     "text": [
      "Bruce's power is money!\n"
     ]
    }
   ],
   "source": [
    "# referencing an argument by it's keyword\n",
    "def print_hero(name, power=\"flying\"):\n",
    "    return f\"{name}'s power is {power}!\"\n",
    "\n",
    "print(print_hero(power= \"money\", name=\"Bruce\"))"
   ]
  },
  {
   "cell_type": "code",
   "execution_count": 14,
   "metadata": {},
   "outputs": [
    {
     "name": "stdout",
     "output_type": "stream",
     "text": [
      "Your floral arrangment includes tulips and craspedia flowers.\n",
      "Your floral arrangment includes rannunculas, bell flowers, and lemon leaves flowers.\n"
     ]
    }
   ],
   "source": [
    "# Create a functiont that takes at least 1 positional argument, 1 optional argument, and 1 default argument\n",
    "def flowers(main, decorative= \"craspedia\", supporting = \"\"):\n",
    "    if supporting:\n",
    "        return f\"Your floral arrangment includes {main}, {decorative}, and {supporting} flowers.\"\n",
    "    else: \n",
    "        return f\"Your floral arrangment includes {main} and {decorative} flowers.\"\n",
    "    \n",
    "print(flowers(\"tulips\", \"craspedia\"))\n",
    "print(flowers(\"rannunculas\", \"bell flowers\", \"lemon leaves\"))"
   ]
  },
  {
   "cell_type": "markdown",
   "metadata": {},
   "source": [
    "# Creating a start, stop, step function"
   ]
  },
  {
   "cell_type": "code",
   "execution_count": 16,
   "metadata": {},
   "outputs": [
    {
     "name": "stdout",
     "output_type": "stream",
     "text": [
      "3\n",
      "5\n",
      "7\n",
      "9\n",
      "11\n"
     ]
    }
   ],
   "source": [
    "def my_range(stop, start = 0, step = 1):\n",
    "    for i in range(start, stop, step):\n",
    "        print(i)\n",
    "        \n",
    "my_range(12,3,2)"
   ]
  },
  {
   "cell_type": "markdown",
   "metadata": {},
   "source": [
    "##### Returning Values"
   ]
  },
  {
   "cell_type": "code",
   "execution_count": 18,
   "metadata": {},
   "outputs": [
    {
     "name": "stdout",
     "output_type": "stream",
     "text": [
      "100\n"
     ]
    }
   ],
   "source": [
    "def add_nums(num1, num2):\n",
    "    return num1 + num2\n",
    "total = add_nums(35,65)\n",
    "\n",
    "print(total)\n"
   ]
  },
  {
   "cell_type": "markdown",
   "metadata": {},
   "source": [
    "##### *args / **kwargs (keyword arguments)"
   ]
  },
  {
   "cell_type": "code",
   "execution_count": 21,
   "metadata": {},
   "outputs": [
    {
     "name": "stdout",
     "output_type": "stream",
     "text": [
      "1\n",
      "(3, 27, 'ice cream')\n",
      "{'names': ['Ryan', 'Terrell'], 'subject': 'Python'}\n"
     ]
    }
   ],
   "source": [
    "# *args stands for arguments. **kwargs for keyword arguments & takes any number of arguments as parameters\n",
    "# must be last if other arguments are present\n",
    "\n",
    "def print_args(num1, *args, **keywords):\n",
    "    print(num1)\n",
    "    print(args)\n",
    "    print(keywords)\n",
    "    \n",
    "print_args(1, 3, 27, \"ice cream\", names=[\"Ryan\", \"Terrell\"], subject = \"Python\",)\n",
    "\n",
    "\n"
   ]
  },
  {
   "cell_type": "code",
   "execution_count": 42,
   "metadata": {},
   "outputs": [
    {
     "ename": "IndentationError",
     "evalue": "expected an indented block (405327794.py, line 9)",
     "output_type": "error",
     "traceback": [
      "\u001b[0;36m  File \u001b[0;32m\"/var/folders/6f/4q9kcrzs1f97_rkfh4sslsbm0000gn/T/ipykernel_20929/405327794.py\"\u001b[0;36m, line \u001b[0;32m9\u001b[0m\n\u001b[0;31m    print(salad(ingredients)\u001b[0m\n\u001b[0m    ^\u001b[0m\n\u001b[0;31mIndentationError\u001b[0m\u001b[0;31m:\u001b[0m expected an indented block\n"
     ]
    }
   ],
   "source": [
    "# Writ a function that accepts args and kwargs and loops over them to print each one out on a seperate line. \n",
    "\n",
    "# def random_list(vegetable, *fruits, **salads):\n",
    "#     print(vegetable)\n",
    "#     for fruit in fruits:\n",
    "#         print(fruit)\n",
    "#     for salad in salads:\n",
    "#         for ingredients in salad:\n",
    "\n",
    "# print(random_list(\"red leaf lettuce\", \"cucumber\", \"bell pepper\", \"tomato\", \"orange\", salad1=[\"poppyseed dressing\", \"spinach\", \"strawberries\"], salad2=[\"iceburg lettuce\", \"ranch dress\", \"crutons\"]))\n"
   ]
  },
  {
   "cell_type": "markdown",
   "metadata": {},
   "source": [
    "##### Docstring"
   ]
  },
  {
   "cell_type": "code",
   "execution_count": 46,
   "metadata": {},
   "outputs": [],
   "source": [
    "def print_names(list_1: list):\n",
    "\n",
    "#     print_names(list_1)\n",
    "#     function requires a list to be passed as a parameter\n",
    "#     and will print the contents of the list. Expecting\n",
    "#     a list of names(strings) to be passed.\n",
    "\n",
    "    for name in list_1:\n",
    "        print(name)\n",
    "        "
   ]
  },
  {
   "cell_type": "code",
   "execution_count": 47,
   "metadata": {},
   "outputs": [
    {
     "name": "stdout",
     "output_type": "stream",
     "text": [
      "Sylvester\n",
      "Tweety\n"
     ]
    }
   ],
   "source": [
    "print_names(['Sylvester', 'Tweety'])"
   ]
  },
  {
   "cell_type": "markdown",
   "metadata": {},
   "source": [
    "##### Using a User Function in a Loop"
   ]
  },
  {
   "cell_type": "code",
   "execution_count": 257,
   "metadata": {},
   "outputs": [
    {
     "name": "stdout",
     "output_type": "stream",
     "text": [
      "What do you want to do? hello\n",
      "Wanna quit? yes\n"
     ]
    }
   ],
   "source": [
    "def printInput(answer):\n",
    "    print(f\"Your answer is {answer}\")\n",
    "    \n",
    "while True:\n",
    "    ask = input(\"What do you want to do? \")\n",
    "    \n",
    "    response= input(\"Wanna quit? \")\n",
    "    if response.lower() == 'yes':\n",
    "        break\n",
    "        \n",
    "# why doesn't it break?"
   ]
  },
  {
   "cell_type": "markdown",
   "metadata": {},
   "source": [
    "## Function Exercises <br>\n",
    "### Exercise 1\n",
    "<p>Write a function that loops through a list of first_names and a list of last_names, combines the two and return a list of full_names</p>"
   ]
  },
  {
   "cell_type": "code",
   "execution_count": 86,
   "metadata": {},
   "outputs": [
    {
     "name": "stdout",
     "output_type": "stream",
     "text": [
      "['John Smith', 'Evan Smith', 'Jordan Williams', 'Max Bell']\n"
     ]
    }
   ],
   "source": [
    "first_name = ['John', 'Evan', 'Jordan', 'Max']\n",
    "last_name = ['Smith', 'Smith', 'Williams', 'Bell']\n",
    "\n",
    "# Output: ['John Smith', 'Evan Smith', 'Jordan Williams', 'Max Bell']\n",
    "\n",
    "# def full_name(first, last):\n",
    "#     fullName = []\n",
    "#     while True:\n",
    "#         for i in range(len(first_name)):\n",
    "#             fullName.append(f\"{first[i]} {last[i]}\")\n",
    "#         return fullName\n",
    "    \n",
    "# print(full_name(first_name, last_name))\n",
    "        \n",
    "    \n",
    "# another way\n",
    "\n",
    "# def fulls(first,last):\n",
    "#     full_name = []\n",
    "    \n",
    "#     while first:\n",
    "#         f = first.pop()\n",
    "#         l = last.pop()\n",
    "#         full_names.append(f+ \" \" + l)\n",
    "#     full_names.reverse()\n",
    "#     return full_names\n",
    "\n",
    "# fulls(first_name, last_name)\n",
    "\n",
    "# #LIST COMPREHENSION\n",
    "# full_name = [full for i in range(len(first_name)) for full in [f\"{first_name[i]} {last_name[i]}\"]]\n",
    "# print(full_name)"
   ]
  },
  {
   "cell_type": "code",
   "execution_count": 93,
   "metadata": {},
   "outputs": [
    {
     "data": {
      "text/plain": [
       "['John Smith', 'Evan Smith', 'Jordan Williams', 'Max Bell']"
      ]
     },
     "execution_count": 93,
     "metadata": {},
     "output_type": "execute_result"
    }
   ],
   "source": [
    "def full_getter(firsts, lasts):\n",
    "    return [firsts[i] + \" \" + lasts[i] for i in range (len(firsts))]\n",
    "\n",
    "full_getter(first_name,last_name)"
   ]
  },
  {
   "cell_type": "markdown",
   "metadata": {},
   "source": [
    "### Exercise 2\n",
    "Create a function that alters all values in the given list by subtracting 5 and then doubling them."
   ]
  },
  {
   "cell_type": "code",
   "execution_count": 122,
   "metadata": {},
   "outputs": [
    {
     "name": "stdout",
     "output_type": "stream",
     "text": [
      "[0, 10, 20, 30, -4]\n"
     ]
    }
   ],
   "source": [
    "input_list = [5,10,15,20,3]\n",
    "# output = [0,10,20,30,-4]\n",
    "\n",
    "def doubles(numbers):\n",
    "    new_list = []\n",
    "    for i in numbers:\n",
    "        new_list.append(2*(int(i) - 5))\n",
    "    return new_list\n",
    "        \n",
    "print(doubles(input_list))\n",
    "\n"
   ]
  },
  {
   "cell_type": "code",
   "execution_count": 121,
   "metadata": {},
   "outputs": [
    {
     "data": {
      "text/plain": [
       "<generator object new_new_new_list.<locals>.<genexpr> at 0x7f9dd09876d0>"
      ]
     },
     "execution_count": 121,
     "metadata": {},
     "output_type": "execute_result"
    }
   ],
   "source": [
    "def new_new_new_list(lst2):\n",
    "    return [(i-5)*2 for i in lst2]\n",
    "\n",
    "new_new_new_list(input_list)"
   ]
  },
  {
   "cell_type": "markdown",
   "metadata": {},
   "source": [
    "## Exercise 2.5\n",
    "<p>Create a function that takes both a given list and another function (func). The function should return a list of items altered by the func. As an exmample, your func can subtract 5 and double each number. </p>"
   ]
  },
  {
   "cell_type": "code",
   "execution_count": 173,
   "metadata": {},
   "outputs": [
    {
     "name": "stdout",
     "output_type": "stream",
     "text": [
      "[0, 10, 20, 30, -4]\n"
     ]
    }
   ],
   "source": [
    "\n",
    "def inner_func(num):\n",
    "    return (num -5)*2\n",
    "\n",
    "def list_changer(alist, func):\n",
    "    return[func(i) for i in alist]\n",
    "\n",
    "print(list_changer(input_list,inner_func))\n",
    "\n",
    "\n",
    "\n",
    "\n",
    "# def flower_shop(main, supporting = \"olive leaves\", decorative = \"\"):\n",
    "#     arrangement = []\n",
    "#     if decorative:\n",
    "#         arrangement.append(main)\n",
    "#         arrangement.append(supporting)\n",
    "#         arrangement.append(decorative)\n",
    "#     else:\n",
    "#         arrangement.append(main)\n",
    "#         arrangment.append(supporting)\n",
    "\n",
    "#     return arrangement\n",
    "\n",
    "# print(flower_shop(main=\"rannunculus\", decorative = \"craspedia\"))\n",
    "\n",
    "\n",
    "\n",
    "# def flower_arrangement(arrangment=flower_shop(), ribbon=\"\"): \n",
    "#     for main in arragement:\n",
    "#         if main.lower([0]) == range[A:M]:\n",
    "#             arragement.append(ribbon)\n",
    "#         else:\n",
    "#             return arrangement\n",
    "    \n",
    "# print(flower_arrangement(ribbon=\"cream ribbon\"))\n",
    "\n"
   ]
  },
  {
   "cell_type": "markdown",
   "metadata": {},
   "source": [
    "### Exercise 3\n",
    "Create a function that takes in a list of strings and filters out the strings that have less than 6 characters "
   ]
  },
  {
   "cell_type": "code",
   "execution_count": 254,
   "metadata": {},
   "outputs": [
    {
     "name": "stdout",
     "output_type": "stream",
     "text": [
      "['Sheldon', 'Leonard', 'Howard', 'Amy', 'Stuart']\n"
     ]
    }
   ],
   "source": [
    "string_list = ['Sheldon','Penny','Leonard','Howard','Raj','Amy','Stuart']\n",
    "# output = ['Sheldon','Leonard','Howard', 'Stuart']\n",
    "\n",
    "def less_than_6(names):\n",
    "    for name in names:\n",
    "        if int(len(name)) < 6:\n",
    "            names.remove(name)\n",
    "    return names\n",
    "# this screws up the order/loop, therefore, returns Amy\n",
    "\n",
    "print(less_than_6(string_list))\n",
    "\n",
    "\n",
    "#     return [i for i in x if len(i >=6)]\n"
   ]
  },
  {
   "cell_type": "markdown",
   "metadata": {},
   "source": [
    "### Exercise 4\n",
    "Create a function that accepts a list as a parameter and returns a dictionary containing the list items as it's keys, and the number of times they appear in the list as the values"
   ]
  },
  {
   "cell_type": "code",
   "execution_count": 202,
   "metadata": {},
   "outputs": [
    {
     "name": "stdout",
     "output_type": "stream",
     "text": [
      "{'Harry': 3, 'Hermione': 2, 'Ron': 4, 'Dobby': 1, 'Draco': 1, 'Luna': 1}\n",
      "{'Harry': 3, 'Hermione': 2, 'Ron': 4, 'Dobby': 1, 'Draco': 1, 'Luna': 1}\n"
     ]
    }
   ],
   "source": [
    "example_list = [\"Harry\", 'Hermione','Harry','Ron','Dobby','Draco','Luna','Harry','Hermione','Ron','Ron','Ron']\n",
    "\n",
    "# output = {\n",
    "#     \"Harry\":3,\n",
    "#     \"Hermione\":2,\n",
    "#     \"Ron\":4,\n",
    "#     \"Dobby\":1,\n",
    "#     \"Draco\":1,\n",
    "#     \"Luna\": 1\n",
    "# }\n",
    "\n",
    "def name_number(xlist):\n",
    "    new_list = {}\n",
    "    for name in xlist:\n",
    "        new_list[name] = xlist.count(name)\n",
    "    return new_list\n",
    "\n",
    "print(name_number(example_list))\n",
    "\n",
    "# count method is cool but \"expensive\" in that\n",
    "\n",
    "#another way:\n",
    "\n",
    "def create_counter(alist):\n",
    "    d = {}\n",
    "    \n",
    "    for item in alist:\n",
    "        if item not in d:\n",
    "            d[item] = 1\n",
    "        else:\n",
    "            d[item] += 1\n",
    "            \n",
    "    return d\n",
    "\n",
    "create_counter(example_list)\n",
    "\n",
    "#another way: counter\n",
    "\n",
    "def count_char(a_list):\n",
    "    from collections import Counter\n",
    "    c = Counter(a_list)\n",
    "    return dict(c)\n",
    "\n",
    "print(count_char(example_list))\n"
   ]
  },
  {
   "cell_type": "markdown",
   "metadata": {},
   "source": [
    "\n",
    "\n",
    "## Scope <br>\n",
    "<p>Scope refers to the ability to access variables, different types of scope include:<br>a) Global<br>b) Function (local)<br>c) Class (local)</p>"
   ]
  },
  {
   "cell_type": "code",
   "execution_count": 208,
   "metadata": {},
   "outputs": [
    {
     "name": "stdout",
     "output_type": "stream",
     "text": [
      "3\n",
      "6\n"
     ]
    }
   ],
   "source": [
    "# placement of variable declaration matters\n",
    "\n",
    "number = 3 # Gloal Variable\n",
    "\n",
    "def myFunc():\n",
    "    num_3 = 6 # Local Function Variable\n",
    "    return num_3\n",
    "\n",
    "print(number)\n",
    "return_num = myFunc()\n",
    "print(return_num)"
   ]
  },
  {
   "cell_type": "code",
   "execution_count": 211,
   "metadata": {},
   "outputs": [
    {
     "name": "stdout",
     "output_type": "stream",
     "text": [
      "<class 'int'>\n",
      "6\n"
     ]
    }
   ],
   "source": [
    "print(type(number))\n",
    "print(return_num)"
   ]
  },
  {
   "cell_type": "markdown",
   "metadata": {},
   "source": [
    "# Homework Exercises"
   ]
  },
  {
   "cell_type": "markdown",
   "metadata": {},
   "source": [
    "## Exercise 1 <br>\n",
    "<p>Given a list as a parameter,write a function that returns a list of numbers that are less than ten</b></i></p><br>\n",
    "<p> For example: Say your input parameter to the function is [1,11,14,5,8,9]...Your output should [1,5,8,9]</p>"
   ]
  },
  {
   "cell_type": "code",
   "execution_count": 243,
   "metadata": {},
   "outputs": [
    {
     "name": "stdout",
     "output_type": "stream",
     "text": [
      "[1, 5, 8, 9]\n"
     ]
    }
   ],
   "source": [
    "# Use the following list - [1,11,14,5,8,9]\n",
    "def num_under_10(l_1):\n",
    "    return [num for num in l_1 if num < 10]\n",
    "\n",
    "l_1 = [1,11,14,5,8,9]\n",
    "\n",
    "print(num_under_10(l_1))\n"
   ]
  },
  {
   "cell_type": "markdown",
   "metadata": {},
   "source": [
    "## Exercise 2 <br>\n",
    "<p>Write a function that takes in two lists and returns the two lists merged together and sorted<br>\n",
    "<b><i>Hint: You can use the .sort() method</i></b></p>"
   ]
  },
  {
   "cell_type": "code",
   "execution_count": 5,
   "metadata": {},
   "outputs": [
    {
     "name": "stdout",
     "output_type": "stream",
     "text": [
      "{1, 2, 3, 4, 5, 6, 7, 8, 10}\n"
     ]
    }
   ],
   "source": [
    "l_1 = [1,2,3,4,5,6]\n",
    "l_2 = [3,4,5,6,7,8,10]\n",
    "\n",
    "def mix(list_1,list_2):\n",
    "    list_1 = set(list_1)\n",
    "    list_2 = set(list_2)\n",
    "    list_3 = list_1 | list_2\n",
    "    return list_3\n",
    "\n",
    "print(mix(l_1, l_2))\n",
    "\n"
   ]
  },
  {
   "cell_type": "code",
   "execution_count": null,
   "metadata": {},
   "outputs": [],
   "source": []
  }
 ],
 "metadata": {
  "kernelspec": {
   "display_name": "Python 3 (ipykernel)",
   "language": "python",
   "name": "python3"
  },
  "language_info": {
   "codemirror_mode": {
    "name": "ipython",
    "version": 3
   },
   "file_extension": ".py",
   "mimetype": "text/x-python",
   "name": "python",
   "nbconvert_exporter": "python",
   "pygments_lexer": "ipython3",
   "version": "3.9.7"
  }
 },
 "nbformat": 4,
 "nbformat_minor": 2
}
