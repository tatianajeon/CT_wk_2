{
 "cells": [
  {
   "cell_type": "markdown",
   "metadata": {},
   "source": [
    "# Dictionaries, Sets, & Importing Modules"
   ]
  },
  {
   "cell_type": "markdown",
   "metadata": {},
   "source": [
    "## Tasks Today:\n",
    "\n",
    "1) Dictionary <br>\n",
    " &nbsp;&nbsp;&nbsp;&nbsp; a) Declaring (key, value) <br>\n",
    " &nbsp;&nbsp;&nbsp;&nbsp; b) Accessing Values <br>\n",
    " &nbsp;&nbsp;&nbsp;&nbsp; ------ Exercise #1 - Print the eye color of each person in a double nested dict <br>\n",
    " &nbsp;&nbsp;&nbsp;&nbsp; c) Adding New Pairs <br>\n",
    " &nbsp;&nbsp;&nbsp;&nbsp; d) Modifying Values <br>\n",
    " &nbsp;&nbsp;&nbsp;&nbsp; e) Removing Key, Value Pairs <br>\n",
    " &nbsp;&nbsp;&nbsp;&nbsp; f) Looping a Dictionary <br>\n",
    " &nbsp;&nbsp;&nbsp;&nbsp; g) Looping Only Keys <br>\n",
    " &nbsp;&nbsp;&nbsp;&nbsp; h) Looping Only Values <br>\n",
    " &nbsp;&nbsp;&nbsp;&nbsp; ------ Exercise #2 - Create a Function that Prints All Key Value Pairs within a print .format()  <br>\n",
    " &nbsp;&nbsp;&nbsp;&nbsp; i) sorted() <br>\n",
    " &nbsp;&nbsp;&nbsp;&nbsp; j) Lists with Dictionaries <br>\n",
    " &nbsp;&nbsp;&nbsp;&nbsp; k) Dictionaries with Lists <br>\n",
    " &nbsp;&nbsp;&nbsp;&nbsp; l) Dictionaries with Dictionaries <br>\n",
    " &nbsp;&nbsp;&nbsp;&nbsp; ------ Exercise #3 - Write a Function that asks someone's name and address, and then stores that into a dictionary, which prints all names and addresses after they're done putting information in...  <br>\n",
    "2) Dictionaries vs. Lists (over time)<br>\n",
    "3) Set <br>\n",
    " &nbsp;&nbsp;&nbsp;&nbsp; a) Declaring <br>\n",
    " &nbsp;&nbsp;&nbsp;&nbsp; b) .add() <br>\n",
    " &nbsp;&nbsp;&nbsp;&nbsp; c) .remove() <br>\n",
    " &nbsp;&nbsp;&nbsp;&nbsp; d) .union() <br>\n",
    " &nbsp;&nbsp;&nbsp;&nbsp; e) .intersection() <br>\n",
    " &nbsp;&nbsp;&nbsp;&nbsp; f) .difference() <br>\n",
    " &nbsp;&nbsp;&nbsp;&nbsp; g) Frozen Set <br>\n",
    "4) Modules <br>\n",
    " &nbsp;&nbsp;&nbsp;&nbsp; a) Importing Entire Modules <br>\n",
    " &nbsp;&nbsp;&nbsp;&nbsp; b) Importing Methods Only <br>\n",
    " &nbsp;&nbsp;&nbsp;&nbsp; c) Using the 'as' Keyword <br>\n",
    " &nbsp;&nbsp;&nbsp;&nbsp; d) Creating a Module <br>\n",
    "5) Exercises <br>\n",
    " &nbsp;&nbsp;&nbsp;&nbsp; a) Build a Shopping Cart <br>\n",
    " &nbsp;&nbsp;&nbsp;&nbsp; b) Create Your Own Module <br>"
   ]
  },
  {
   "cell_type": "markdown",
   "metadata": {},
   "source": [
    "## Dictionary <br>\n",
    "<p>A collection of data with 'key:value' pairs. Dictionaries are ordered as of Python 3.6</p>"
   ]
  },
  {
   "cell_type": "markdown",
   "metadata": {},
   "source": [
    "##### Declaring (key, value)"
   ]
  },
  {
   "cell_type": "code",
   "execution_count": 12,
   "metadata": {},
   "outputs": [],
   "source": [
    "# keys should be unique\n",
    "# can use numbers or strings as keys\n",
    "d_1 = {}\n",
    "\n",
    "#OR\n",
    "\n",
    "d_2 = dict()\n",
    "\n",
    "#OR\n",
    "\n",
    "d_3 = {\n",
    "    \"Tom\": \"255 Main St\",\n",
    "    \"Jerry\": \"256 Main St\",\n",
    "    0: \"This is the value for the 0 key\",\n",
    "}\n",
    "\n"
   ]
  },
  {
   "cell_type": "markdown",
   "metadata": {},
   "source": [
    "##### Accessing Values"
   ]
  },
  {
   "cell_type": "code",
   "execution_count": 10,
   "metadata": {},
   "outputs": [
    {
     "data": {
      "text/plain": [
       "'255 Main St'"
      ]
     },
     "execution_count": 10,
     "metadata": {},
     "output_type": "execute_result"
    }
   ],
   "source": [
    "# dict[key]\n",
    "\n",
    "d_3[\"Tom\"]\n",
    "\n",
    "print(d_3(0))\n"
   ]
  },
  {
   "cell_type": "markdown",
   "metadata": {},
   "source": [
    "## In-Class Exercise #1 - Print a formatted statement from the dictionary below <br>\n",
    "<p>The output should be '2018 Chevrolet Silverado'</p>"
   ]
  },
  {
   "cell_type": "code",
   "execution_count": 26,
   "metadata": {},
   "outputs": [
    {
     "name": "stdout",
     "output_type": "stream",
     "text": [
      "Your car is a 2018 Chevrolet Silverado\n"
     ]
    }
   ],
   "source": [
    "# use the dict below\n",
    "truck = {\n",
    "    \"year\": 2018,\n",
    "    'make': 'Chevrolet',\n",
    "    'model': 'Silverado'\n",
    "}\n",
    "\n",
    "print(f\"Your car is a {truck['year']} {truck['make']} {truck['model']}\")"
   ]
  },
  {
   "cell_type": "markdown",
   "metadata": {},
   "source": [
    "##### Adding New Pairs"
   ]
  },
  {
   "cell_type": "code",
   "execution_count": 31,
   "metadata": {},
   "outputs": [
    {
     "data": {
      "text/plain": [
       "{'Tom': '255 Main St',\n",
       " 'Jerry': '256 Main St',\n",
       " 0: 'This is the value for the 0 key',\n",
       " 'Spike': '257 Main St'}"
      ]
     },
     "execution_count": 31,
     "metadata": {},
     "output_type": "execute_result"
    }
   ],
   "source": [
    "# dict[key] = value\n",
    "d_3['Spike'] = '257 Main St'\n",
    "d_3"
   ]
  },
  {
   "cell_type": "markdown",
   "metadata": {},
   "source": [
    "##### Modifying Values"
   ]
  },
  {
   "cell_type": "code",
   "execution_count": 32,
   "metadata": {},
   "outputs": [
    {
     "data": {
      "text/plain": [
       "{'Tom': '255 Main St',\n",
       " 'Jerry': '256 Main St',\n",
       " 0: 'This is the value for the 0 key',\n",
       " 'Spike': '257 Main StChicago, IL'}"
      ]
     },
     "execution_count": 32,
     "metadata": {},
     "output_type": "execute_result"
    }
   ],
   "source": [
    "# dict[key] = value\n",
    "placeholder = d_3['Spike']\n",
    "d_3['Spike'] = placeholder + \" Chicago, IL\"\n",
    "d_3"
   ]
  },
  {
   "cell_type": "markdown",
   "metadata": {},
   "source": [
    "##### Removing Key, Value Pairs"
   ]
  },
  {
   "cell_type": "code",
   "execution_count": 33,
   "metadata": {},
   "outputs": [
    {
     "data": {
      "text/plain": [
       "{'Tom': '255 Main St',\n",
       " 'Jerry': '256 Main St',\n",
       " 'Spike': '257 Main StChicago, IL'}"
      ]
     },
     "execution_count": 33,
     "metadata": {},
     "output_type": "execute_result"
    }
   ],
   "source": [
    "# del dict[key]\n",
    "del d_3[0]\n",
    "\n",
    "d_3"
   ]
  },
  {
   "cell_type": "markdown",
   "metadata": {},
   "source": [
    "##### Looping a Dictionary"
   ]
  },
  {
   "cell_type": "code",
   "execution_count": 35,
   "metadata": {},
   "outputs": [
    {
     "name": "stdout",
     "output_type": "stream",
     "text": [
      "Name: Tom | Address: 255 Main St\n",
      "Name: Jerry | Address: 256 Main St\n",
      "Name: Spike | Address: 257 Main StChicago, IL\n"
     ]
    }
   ],
   "source": [
    "# .items()\n",
    "# a, b, c = 1, 2, 3\n",
    "# for key, value\n",
    "for key, value in d_3.items():\n",
    "    print(f\"Name: {key} | Address: {value}\")"
   ]
  },
  {
   "cell_type": "markdown",
   "metadata": {},
   "source": [
    "##### Looping Only Keys"
   ]
  },
  {
   "cell_type": "code",
   "execution_count": 38,
   "metadata": {},
   "outputs": [
    {
     "name": "stdout",
     "output_type": "stream",
     "text": [
      "Tom\n",
      "Jerry\n",
      "Spike\n",
      "['Tom', 'Jerry', 'Spike']\n"
     ]
    }
   ],
   "source": [
    "# .keys()\n",
    "for name in d_3:\n",
    "    print(name)\n",
    "\n",
    "print(list(d_3.keys()))"
   ]
  },
  {
   "cell_type": "markdown",
   "metadata": {},
   "source": [
    "##### Looping Only Values"
   ]
  },
  {
   "cell_type": "code",
   "execution_count": 40,
   "metadata": {},
   "outputs": [
    {
     "name": "stdout",
     "output_type": "stream",
     "text": [
      "['255 Main St', '256 Main St', '257 Main StChicago, IL']\n"
     ]
    }
   ],
   "source": [
    "value_list = [val for val in d_3.values()]\n",
    "print(value_list)"
   ]
  },
  {
   "cell_type": "code",
   "execution_count": null,
   "metadata": {
    "scrolled": false
   },
   "outputs": [],
   "source": []
  },
  {
   "cell_type": "code",
   "execution_count": 9,
   "metadata": {
    "scrolled": true
   },
   "outputs": [],
   "source": [
    "# .values()\n"
   ]
  },
  {
   "cell_type": "markdown",
   "metadata": {},
   "source": [
    "## In-Class Exercise #2 - Create a Function that Prints All Key Value Pairs within a print .format() <br>\n",
    "<p><b>Output should be:</b><br>\n",
    "Max has blue eyes<br>\n",
    "Lilly has brown eyes<br>\n",
    "Barney has blue eyes<br>\n",
    "etc.\n",
    "</p>"
   ]
  },
  {
   "cell_type": "code",
   "execution_count": 45,
   "metadata": {},
   "outputs": [
    {
     "name": "stdout",
     "output_type": "stream",
     "text": [
      "Timmy has brown eyes.\n",
      "Wanda has pink eyes.\n",
      "Vicky has green eyes.\n",
      "Cosmo has green eyes.\n"
     ]
    }
   ],
   "source": [
    "# use the dict below\n",
    "people = {\n",
    "    \"Timmy\" : \"brown\",\n",
    "    \"Wanda\" : \"pink\",\n",
    "    \"Vicky\" : \"green\",\n",
    "    \"Cosmo\" : \"green\",\n",
    "}\n",
    "\n",
    "for key, value in people.items():\n",
    "    print(f\"{key} has {value} eyes.\")\n"
   ]
  },
  {
   "cell_type": "markdown",
   "metadata": {},
   "source": [
    "##### sorted()"
   ]
  },
  {
   "cell_type": "code",
   "execution_count": 47,
   "metadata": {},
   "outputs": [
    {
     "name": "stdout",
     "output_type": "stream",
     "text": [
      "['Cosmo', 'Timmy', 'Vicky', 'Wanda']\n",
      "['brown', 'green', 'green', 'pink']\n",
      "[('Cosmo', 'green'), ('Timmy', 'brown'), ('Vicky', 'green'), ('Wanda', 'pink')]\n",
      "{'Cosmo': 'green', 'Timmy': 'brown', 'Vicky': 'green', 'Wanda': 'pink'}\n"
     ]
    }
   ],
   "source": [
    "# sorts variables in order\n",
    "# sorted(dict.values()) or dict.keys() or dict.items()\n",
    "print(sorted(people.keys()))\n",
    "print(sorted(people.values()))\n",
    "print(sorted(people.items())) # turns it into a tuple\n",
    "print(dict(sorted(people.items()))) # turns it back into a dict"
   ]
  },
  {
   "cell_type": "markdown",
   "metadata": {},
   "source": [
    "##### List with Dictionaries"
   ]
  },
  {
   "cell_type": "code",
   "execution_count": 51,
   "metadata": {},
   "outputs": [
    {
     "name": "stdout",
     "output_type": "stream",
     "text": [
      "Barb\n",
      "random_guy Tom\n",
      "random_girl Barb\n"
     ]
    }
   ],
   "source": [
    "names = ['Dave', 'Susan', 'Linda', {'random_guy':'Tom', 'random_girl':'Barb'}]\n",
    "print(names[3]['random_girl'])\n",
    "\n",
    "for key in names[3]:\n",
    "    print(key,names[3][key])"
   ]
  },
  {
   "cell_type": "markdown",
   "metadata": {},
   "source": [
    "##### Dictionaries with Lists"
   ]
  },
  {
   "cell_type": "code",
   "execution_count": 59,
   "metadata": {},
   "outputs": [
    {
     "ename": "AttributeError",
     "evalue": "'dict' object has no attribute 'value'",
     "output_type": "error",
     "traceback": [
      "\u001b[0;31m---------------------------------------------------------------------------\u001b[0m",
      "\u001b[0;31mAttributeError\u001b[0m                            Traceback (most recent call last)",
      "\u001b[0;32m/var/folders/6f/4q9kcrzs1f97_rkfh4sslsbm0000gn/T/ipykernel_10806/2568789218.py\u001b[0m in \u001b[0;36m<module>\u001b[0;34m\u001b[0m\n\u001b[1;32m      8\u001b[0m \u001b[0;31m#     print(data)\u001b[0m\u001b[0;34m\u001b[0m\u001b[0;34m\u001b[0m\u001b[0m\n\u001b[1;32m      9\u001b[0m \u001b[0;34m\u001b[0m\u001b[0m\n\u001b[0;32m---> 10\u001b[0;31m \u001b[0mprint\u001b[0m\u001b[0;34m(\u001b[0m\u001b[0mrandom_data\u001b[0m\u001b[0;34m.\u001b[0m\u001b[0mvalue\u001b[0m\u001b[0;34m[\u001b[0m\u001b[0mlist_1\u001b[0m\u001b[0;34m]\u001b[0m\u001b[0;34m)\u001b[0m\u001b[0;34m\u001b[0m\u001b[0;34m\u001b[0m\u001b[0m\n\u001b[0m",
      "\u001b[0;31mAttributeError\u001b[0m: 'dict' object has no attribute 'value'"
     ]
    }
   ],
   "source": [
    "# be careful when using numbers as keys in dictionaries, don't confuse them with indexes\n",
    "random_data ={\n",
    "    \"list_1\": [33,94,12],\n",
    "    \"2\": [\"flashlight\"]\n",
    "}\n",
    "\n",
    " for data in random_data['list_1']:\n",
    "     print(data)\n",
    "    \n"
   ]
  },
  {
   "cell_type": "markdown",
   "metadata": {},
   "source": [
    "##### Dictionaries with Dictionaries"
   ]
  },
  {
   "cell_type": "code",
   "execution_count": 64,
   "metadata": {},
   "outputs": [],
   "source": [
    "# to get values, must traverse through keys\n",
    "food_dict = {\n",
    "    \"Terrell\":{\n",
    "        \"Latin\": [\"tacos\", \"arepas\", \"empanadas\"],\n",
    "        \"Noodles\": [\"instant\", \"pho\", \"ramen\", \"macaroni\"],\n",
    "    },\n",
    "    \"Tatiana\":{\n",
    "        \"Trader Joes\" : [\"coffee mini cones\", \"vegan tiki masala\", \"chocolate almond butter cups\"],\n",
    "        \"Maui\" : [\"shave ice\", \"poke\"],\n",
    "    },\n",
    "    \"Danni\":{\n",
    "        \"Mexican\": [\"Taco\",\"Burrito\",\"Empenada\"],\n",
    "        \"Japanese\":[\"Nigiri\",\"Sashimi\",\"Onigiri\"],\n",
    "    },\n",
    "    \"Billy\": {\n",
    "        \"Latin\": [\"Tacos\", \"Quesadilla\", \"Burritos\"],\n",
    "        \"Noodles\": [\"Spaghetti\", \"Pho\", \"Mac'n Cheese\"],\n",
    "    },\n",
    "       \"Ryan\": {\n",
    "        \"Latin\": [\"Tacos\", \"Tortas\", \"More Tacos\", \"I just really love tacos\"],\n",
    "        \"Noodles\": [\"Ramen\", \"anythign slurpable\"]\n",
    "    }, \n",
    "    \"Garrett\":{\n",
    "        \"Breakfast\":[\"Eggs\",\"Waffles\",\"Bacon\"],\n",
    "        \"Lunch\":[\"Instant Noodles\",\"Perogies\"]\n",
    "    },\n",
    "    \"marcus\": {\n",
    "        \"bbq\": [\"brisket\",\"ribs\",\"chicken\"],\n",
    "        \"mexican\": [\"street tacos\", \"brirra\", \"wet burrito\"]\n",
    "    },\n",
    "    'Connor':{\n",
    "        'japanese': ['sushi', 'fried rice', 'lo mein'],\n",
    "        'italian': ['Stromboli', 'ravioli', 'tortalini']\n",
    "    },\n",
    "    \"Devin\":{\n",
    "        \"Seafood\": [\"Salmon\",\"Lobster\",\"Tuna\"],\n",
    "        \"Italian\": [\"Spaghetti\", \"Ravioli\", \"Lasagna\"]\n",
    "    },\n",
    "    \"Jordy\": {\n",
    "        \"Asian Cuisines\": [\"General Tso\", \"Pad Thai\", \"Ramen\"],\n",
    "        \"Italian\": [\"Pene\", \"Alfredo\", \"Margharita pizza\"],\n",
    "        \"Spanish\": [\"Pernil\", \"Tostones\", \"Birria\"]\n",
    "    },\n",
    "    \"Joel\":{\n",
    "        \"Spanish\": [\" Tacos\",\"RicenBeans\",'Salchipapa'],\n",
    "        \"Italian\": [\"pasta\",\"lasagna\",\"Alfredo\"]\n",
    "    },\n",
    "    'John':{\n",
    "        'Japanese' : ['Ramen','Taiyaki'],\n",
    "        \"Thai\": ['Massaman Curry'],\n",
    "        \"Italian\": ['Alfredo Anythin', 'Chicken Parmigiana']\n",
    "    },\n",
    "    \"Sam\":{\n",
    "        \"Soul\": [\"Fried Steak\", \"Collard Greens\", \"Mac & Cheese\"],\n",
    "        \"Breakfast\": [\"Pancakes\", \"Eggs\", \"Bacon\"]\n",
    "    }\n",
    "}\n"
   ]
  },
  {
   "cell_type": "markdown",
   "metadata": {},
   "source": [
    "# Exercise: Grab everyone's favorite food and print them out on individual lines"
   ]
  },
  {
   "cell_type": "code",
   "execution_count": 105,
   "metadata": {},
   "outputs": [
    {
     "name": "stdout",
     "output_type": "stream",
     "text": [
      "tacos\n",
      "arepas\n",
      "empanadas\n",
      "instant\n",
      "pho\n",
      "ramen\n",
      "macaroni\n",
      "coffee mini cones\n",
      "vegan tiki masala\n",
      "chocolate almond butter cups\n",
      "shave ice\n",
      "poke\n",
      "Taco\n",
      "Burrito\n",
      "Empenada\n",
      "Nigiri\n",
      "Sashimi\n",
      "Onigiri\n",
      "Tacos\n",
      "Quesadilla\n",
      "Burritos\n",
      "Spaghetti\n",
      "Pho\n",
      "Mac'n Cheese\n",
      "Tacos\n",
      "Tortas\n",
      "More Tacos\n",
      "I just really love tacos\n",
      "Ramen\n",
      "anythign slurpable\n",
      "Eggs\n",
      "Waffles\n",
      "Bacon\n",
      "Instant Noodles\n",
      "Perogies\n",
      "brisket\n",
      "ribs\n",
      "chicken\n",
      "street tacos\n",
      "brirra\n",
      "wet burrito\n",
      "sushi\n",
      "fried rice\n",
      "lo mein\n",
      "Stromboli\n",
      "ravioli\n",
      "tortalini\n",
      "Salmon\n",
      "Lobster\n",
      "Tuna\n",
      "Spaghetti\n",
      "Ravioli\n",
      "Lasagna\n",
      "General Tso\n",
      "Pad Thai\n",
      "Ramen\n",
      "Pene\n",
      "Alfredo\n",
      "Margharita pizza\n",
      "Pernil\n",
      "Tostones\n",
      "Birria\n",
      " Tacos\n",
      "RicenBeans\n",
      "Salchipapa\n",
      "pasta\n",
      "lasagna\n",
      "Alfredo\n",
      "Ramen\n",
      "Taiyaki\n",
      "Massaman Curry\n",
      "Alfredo Anythin\n",
      "Chicken Parmigiana\n",
      "Fried Steak\n",
      "Collard Greens\n",
      "Mac & Cheese\n",
      "Pancakes\n",
      "Eggs\n",
      "Bacon\n"
     ]
    }
   ],
   "source": [
    "# for key, value in food_dict.items():\n",
    "#     print(key, value)\n",
    "    \n",
    "for name, food_type in food_dict.items():\n",
    "    for name, values in food_type.items():\n",
    "        for food in values:\n",
    "            print(food)"
   ]
  },
  {
   "cell_type": "markdown",
   "metadata": {},
   "source": [
    "# Bonus:\n",
    "<p>Grab our favorite foods and if there is a duplicate, don't print it<p>"
   ]
  },
  {
   "cell_type": "code",
   "execution_count": null,
   "metadata": {},
   "outputs": [],
   "source": []
  },
  {
   "cell_type": "markdown",
   "metadata": {},
   "source": [
    "## Dictionaries vs. Lists (over time) Example of RUNTIME\n",
    "### When inputting values in a Dictionary vs List"
   ]
  },
  {
   "cell_type": "code",
   "execution_count": 127,
   "metadata": {},
   "outputs": [],
   "source": [
    "import time\n",
    "# Generate a dictionary\n",
    "d = {}\n",
    "for i in range (10000000):\n",
    "    d[i] = \"value \" + str(i)\n",
    "    \n",
    "d2 = {i:f\"value {i}\" for i in range(10000000)}\n",
    "# generate a list\n",
    "big_list = [x for x in range(10000000)]"
   ]
  },
  {
   "cell_type": "code",
   "execution_count": 133,
   "metadata": {},
   "outputs": [
    {
     "name": "stdout",
     "output_type": "stream",
     "text": [
      "1654102766.701534\n"
     ]
    }
   ],
   "source": [
    "print(time.time())"
   ]
  },
  {
   "cell_type": "code",
   "execution_count": 132,
   "metadata": {},
   "outputs": [
    {
     "name": "stdout",
     "output_type": "stream",
     "text": [
      "value 999999\n",
      "Elapsed time for dictionary: 0.0004830360412597656\n",
      "9999999\n",
      "Elapsed time for list:0.5464942455291748\n"
     ]
    }
   ],
   "source": [
    "#track time for dictionary\n",
    "\n",
    "start_time = time.time()\n",
    "print(d[999999])\n",
    "\n",
    "end_time = time.time()\n",
    "elapsed_time = end_time - start_time\n",
    "print(f\"Elapsed time for dictionary: {elapsed_time}\")\n",
    "\n",
    "start_time = time.time()\n",
    "end_time = time.time()\n",
    "elapsed_time = end_time - start_time\n",
    "for i in range(len(big_list)):\n",
    "    if i == 9999999:\n",
    "        print(i)\n",
    "        break\n",
    "        \n",
    "end_time = time.time()\n",
    "elapsed_time = end_time - start_time\n",
    "print(f\"Elapsed time for list:{elapsed_time}\")"
   ]
  },
  {
   "cell_type": "markdown",
   "metadata": {},
   "source": [
    "## Exercise #3 - Write a Function that asks someone's name and address, and then stores that into a dictionary, and continues to do so until they choose to 'quit'. Once they quit, the program should print all names and addresses. <br>\n",
    "<p>\n",
    "<b>Proper steps:</b><br>\n",
    "step 1: write a function that takes in information and stores it in a dictionary<br>\n",
    "step 2: define an empty dictionary to work with<br>\n",
    "step 3: create our loop, which asks the user for information until they quit<br>\n",
    "step 4: ask for the information, and store it into variables<br>\n",
    "step 5: check if the user types quit<br>\n",
    "step 5a: print out all information<br>\n",
    "step 5b: break out of the loop<br>\n",
    "step 6: if they didn't quit, add the information to the dictionary<br>\n",
    "step 7: invoke the function by calling it\n",
    "</p>"
   ]
  },
  {
   "cell_type": "code",
   "execution_count": 205,
   "metadata": {},
   "outputs": [],
   "source": [
    "from IPython.display import clear_output # wipes the screen \n",
    "\n",
    "# Step 1\n",
    "def storeInfo():\n",
    "    info_dict = {}\n",
    "    while True:\n",
    "        name = input(\"What is your name? \")\n",
    "        if name == 'quit':\n",
    "            break\n",
    "        address = input(\"What is your address? \")\n",
    "        if address == 'quit':\n",
    "            break\n",
    "    storeInfo[name] = address\n",
    "\n",
    "    print(storeInfo)\n",
    "    \n"
   ]
  },
  {
   "cell_type": "code",
   "execution_count": 168,
   "metadata": {},
   "outputs": [
    {
     "name": "stdout",
     "output_type": "stream",
     "text": [
      "Enter name: quit\n"
     ]
    }
   ],
   "source": [
    "# John's code:\n",
    "# step 1\n",
    "def storeInfo():\n",
    "    # Step 2\n",
    "    name_dict = {}\n",
    "    \n",
    "    # Step 3\n",
    "    while True:\n",
    "\n",
    "        #Step 4\n",
    "        name = input(\"Enter name: \")\n",
    "        \n",
    "        # Step 5\n",
    "        if name == \"quit\":\n",
    "            \n",
    "            #Step 5a\n",
    "            for x,y in name_dict.items():\n",
    "                print(x,y)\n",
    "                \n",
    "            #Step 5b\n",
    "            break;\n",
    "            \n",
    "        else:\n",
    "            \n",
    "            #Step 4\n",
    "            address = input(\"Enter address: \")\n",
    "            \n",
    "            # Step 5\n",
    "            if address == \"quit\":\n",
    "                \n",
    "                #Step 5a\n",
    "                for x,y in name_dict.items():\n",
    "                    print(x,y)\n",
    "                    \n",
    "                # Step 5b\n",
    "                break;\n",
    "            \n",
    "            #step 6\n",
    "            name_dict[name] = address\n",
    "            \n",
    "#step 7\n",
    "storeInfo()"
   ]
  },
  {
   "cell_type": "code",
   "execution_count": 170,
   "metadata": {},
   "outputs": [
    {
     "name": "stdout",
     "output_type": "stream",
     "text": [
      "Type 'quit' to exit.\n",
      "Enter your name Tatiana\n",
      "Enter your address 123 Main St\n",
      "Type 'quit' to exit.\n",
      "Enter your name quit\n",
      "{'Tatiana': '123 Main St'}\n"
     ]
    }
   ],
   "source": [
    "#Jordy's\n",
    "def storeInfo():\n",
    "    user_dict = {}\n",
    "    while True:\n",
    "        print(\"Type 'quit' to exit.\")\n",
    "        user_name = input(\"Enter your name \")\n",
    "        if user_name == \"quit\":\n",
    "            break\n",
    "        user_address = input(\"Enter your address \")\n",
    "        if user_address == \"quit\":\n",
    "            break\n",
    "        user_dict[user_name] = user_address\n",
    "    print(user_dict)\n",
    "\n",
    "storeInfo()"
   ]
  },
  {
   "cell_type": "markdown",
   "metadata": {},
   "source": [
    "## Set <br>\n",
    "<p>A Set is an unordered collection data type that is iterable (loop), mutable, and has no duplicate elements.<br>Major advantage is that it is highly optimized in checking if something is in the set, as opposed to checking if something is in a list.</p>"
   ]
  },
  {
   "cell_type": "markdown",
   "metadata": {},
   "source": [
    "##### Declaring"
   ]
  },
  {
   "cell_type": "code",
   "execution_count": 179,
   "metadata": {},
   "outputs": [
    {
     "name": "stdout",
     "output_type": "stream",
     "text": [
      "{8, 9, 3, 4}\n",
      "[1, 2, 3, 4, 1, 2, 3, 4, 5, 1, 5]\n",
      "{1, 2, 3, 4, 5}\n",
      "['__and__', '__class__', '__class_getitem__', '__contains__', '__delattr__', '__dir__', '__doc__', '__eq__', '__format__', '__ge__', '__getattribute__', '__gt__', '__hash__', '__iand__', '__init__', '__init_subclass__', '__ior__', '__isub__', '__iter__', '__ixor__', '__le__', '__len__', '__lt__', '__ne__', '__new__', '__or__', '__rand__', '__reduce__', '__reduce_ex__', '__repr__', '__ror__', '__rsub__', '__rxor__', '__setattr__', '__sizeof__', '__str__', '__sub__', '__subclasshook__', '__xor__', 'add', 'clear', 'copy', 'difference', 'difference_update', 'discard', 'intersection', 'intersection_update', 'isdisjoint', 'issubset', 'issuperset', 'pop', 'remove', 'symmetric_difference', 'symmetric_difference_update', 'union', 'update']\n"
     ]
    }
   ],
   "source": [
    "# set() or {}\n",
    "# no order {3, 2, 1} outputs as {1, 2, 3}\n",
    "\n",
    "nums = {4,8,9,3,4}\n",
    "print(nums)\n",
    "\n",
    "nums_list = [1,2,3,4,1,2,3,4,5,1,5]\n",
    "print(nums_list)\n",
    "\n",
    "nums_set = set(nums_list)\n",
    "print(nums_set)"
   ]
  },
  {
   "cell_type": "markdown",
   "metadata": {},
   "source": [
    "##### .add()"
   ]
  },
  {
   "cell_type": "code",
   "execution_count": 180,
   "metadata": {},
   "outputs": [
    {
     "name": "stdout",
     "output_type": "stream",
     "text": [
      "{3, 4, 8, 9, 88}\n"
     ]
    }
   ],
   "source": [
    "# set.add()\n",
    "nums.add(88)\n",
    "print(nums)"
   ]
  },
  {
   "cell_type": "markdown",
   "metadata": {},
   "source": [
    "##### .remove()"
   ]
  },
  {
   "cell_type": "code",
   "execution_count": 182,
   "metadata": {},
   "outputs": [
    {
     "ename": "KeyError",
     "evalue": "88",
     "output_type": "error",
     "traceback": [
      "\u001b[0;31m---------------------------------------------------------------------------\u001b[0m",
      "\u001b[0;31mKeyError\u001b[0m                                  Traceback (most recent call last)",
      "\u001b[0;32m/var/folders/6f/4q9kcrzs1f97_rkfh4sslsbm0000gn/T/ipykernel_10806/298576892.py\u001b[0m in \u001b[0;36m<module>\u001b[0;34m\u001b[0m\n\u001b[1;32m      2\u001b[0m \u001b[0;31m# set.remove()\u001b[0m\u001b[0;34m\u001b[0m\u001b[0;34m\u001b[0m\u001b[0m\n\u001b[1;32m      3\u001b[0m \u001b[0;31m# nums.remove(56)\u001b[0m\u001b[0;34m\u001b[0m\u001b[0;34m\u001b[0m\u001b[0m\n\u001b[0;32m----> 4\u001b[0;31m \u001b[0mnums\u001b[0m\u001b[0;34m.\u001b[0m\u001b[0mremove\u001b[0m\u001b[0;34m(\u001b[0m\u001b[0;36m88\u001b[0m\u001b[0;34m)\u001b[0m\u001b[0;34m\u001b[0m\u001b[0;34m\u001b[0m\u001b[0m\n\u001b[0m\u001b[1;32m      5\u001b[0m \u001b[0mprint\u001b[0m\u001b[0;34m(\u001b[0m\u001b[0mnums\u001b[0m\u001b[0;34m)\u001b[0m\u001b[0;34m\u001b[0m\u001b[0;34m\u001b[0m\u001b[0m\n",
      "\u001b[0;31mKeyError\u001b[0m: 88"
     ]
    }
   ],
   "source": [
    "# removes by value\n",
    "# set.remove()\n",
    "# nums.remove(56)\n",
    "nums.remove(88) # why isn't this working\n",
    "print(nums)"
   ]
  },
  {
   "cell_type": "markdown",
   "metadata": {},
   "source": [
    "##### .union() "
   ]
  },
  {
   "cell_type": "code",
   "execution_count": 186,
   "metadata": {},
   "outputs": [
    {
     "name": "stdout",
     "output_type": "stream",
     "text": [
      "{1, 2, 3, 4, 5, 6}\n",
      "{1, 2, 3, 4, 5, 6}\n",
      "{1, 2, 3, 4, 5, 6}\n"
     ]
    }
   ],
   "source": [
    "# Returns a union of two sets, can also use '|' or set.union(set)\n",
    "# joins all numbers, gets rid of duplicates\n",
    "\n",
    "s1 = {1,2,3,4}\n",
    "s2 = {3,4,5,6}\n",
    "\n",
    "s3 = s1.union(s2)\n",
    "print(s3)\n",
    "\n",
    "#or\n",
    "\n",
    "s4 = s1 | s2\n",
    "print(s3)\n",
    "print(s4)"
   ]
  },
  {
   "cell_type": "markdown",
   "metadata": {},
   "source": [
    "##### .intersection()"
   ]
  },
  {
   "cell_type": "code",
   "execution_count": 187,
   "metadata": {},
   "outputs": [
    {
     "name": "stdout",
     "output_type": "stream",
     "text": [
      "{3, 4}\n",
      "{3, 4}\n"
     ]
    }
   ],
   "source": [
    "# Returns an intersection of two sets, can also use '&'\n",
    "# only takes similar elements from both sets\n",
    "\n",
    "s5 = s1.intersection(s2)\n",
    "\n",
    "#or \n",
    "s6 = s2 & s1\n",
    "\n",
    "print(s5)\n",
    "print(s6)"
   ]
  },
  {
   "cell_type": "markdown",
   "metadata": {},
   "source": [
    "##### .difference()"
   ]
  },
  {
   "cell_type": "code",
   "execution_count": 189,
   "metadata": {},
   "outputs": [
    {
     "name": "stdout",
     "output_type": "stream",
     "text": [
      "{1, 2}\n",
      "{5, 6}\n"
     ]
    }
   ],
   "source": [
    "# Returns a set containing all the elements of invoking set that are not in the second set, can also use '-'\n",
    "# only takes values from the first set that are not in the second set\n",
    "# order matters\n",
    "\n",
    "s8 = s2.difference(s1)\n",
    "\n",
    "#OR\n",
    "\n",
    "s7 = s1 - s2\n",
    "\n",
    "print(s7)\n",
    "print(s8)\n"
   ]
  },
  {
   "cell_type": "markdown",
   "metadata": {},
   "source": [
    "##### .clear()"
   ]
  },
  {
   "cell_type": "code",
   "execution_count": 190,
   "metadata": {},
   "outputs": [
    {
     "name": "stdout",
     "output_type": "stream",
     "text": [
      "set()\n"
     ]
    }
   ],
   "source": [
    "# Empties the whole set\n",
    "# set.clear()\n",
    "\n",
    "\n",
    "s8.clear()\n",
    "print(s8)"
   ]
  },
  {
   "cell_type": "code",
   "execution_count": null,
   "metadata": {},
   "outputs": [],
   "source": []
  },
  {
   "cell_type": "markdown",
   "metadata": {},
   "source": [
    "##### Frozenset <br>\n",
    "<p>Frozen sets are immutable objects that only support methods and operators that produce a result without affecting the frozen set or sets to which they are applied.</p><br><b>Unique & Immutable</b>"
   ]
  },
  {
   "cell_type": "code",
   "execution_count": 196,
   "metadata": {},
   "outputs": [
    {
     "name": "stdout",
     "output_type": "stream",
     "text": [
      "frozenset({1, 2, 3, 4, 5, 6})\n",
      "['__and__', '__class__', '__class_getitem__', '__contains__', '__delattr__', '__dir__', '__doc__', '__eq__', '__format__', '__ge__', '__getattribute__', '__gt__', '__hash__', '__init__', '__init_subclass__', '__iter__', '__le__', '__len__', '__lt__', '__ne__', '__new__', '__or__', '__rand__', '__reduce__', '__reduce_ex__', '__repr__', '__ror__', '__rsub__', '__rxor__', '__setattr__', '__sizeof__', '__str__', '__sub__', '__subclasshook__', '__xor__', 'copy', 'difference', 'intersection', 'isdisjoint', 'issubset', 'issuperset', 'symmetric_difference', 'union']\n"
     ]
    }
   ],
   "source": [
    "# frozenset([])\n",
    "\n",
    "icy_set = frozenset(s3)\n",
    "print(icy_set)\n",
    "\n",
    "print(dir(icy_set))\n"
   ]
  },
  {
   "cell_type": "markdown",
   "metadata": {},
   "source": [
    "## Modules"
   ]
  },
  {
   "cell_type": "markdown",
   "metadata": {},
   "source": [
    "##### Importing Entire Modules"
   ]
  },
  {
   "cell_type": "code",
   "execution_count": 197,
   "metadata": {},
   "outputs": [
    {
     "name": "stdout",
     "output_type": "stream",
     "text": [
      "3.141592653589793\n",
      "4\n"
     ]
    }
   ],
   "source": [
    "# import \n",
    "# or \n",
    "# from 'xxx' import *\n",
    "\n",
    "import math\n",
    "print(math.pi)\n",
    "print(math.ceil(math.pi))\n",
    "\n"
   ]
  },
  {
   "cell_type": "markdown",
   "metadata": {},
   "source": [
    "##### Importing Methods Only"
   ]
  },
  {
   "cell_type": "code",
   "execution_count": 198,
   "metadata": {},
   "outputs": [
    {
     "name": "stdout",
     "output_type": "stream",
     "text": [
      "3\n"
     ]
    }
   ],
   "source": [
    "# from 'xxx' import 'xxx'\n",
    "from math import floor, pi\n",
    "\n",
    "print(floor(pi))\n",
    "\n"
   ]
  },
  {
   "cell_type": "markdown",
   "metadata": {},
   "source": [
    "##### Using the 'as' Keyword"
   ]
  },
  {
   "cell_type": "code",
   "execution_count": 199,
   "metadata": {},
   "outputs": [
    {
     "name": "stdout",
     "output_type": "stream",
     "text": [
      "3\n"
     ]
    }
   ],
   "source": [
    "# from 'xxx' import 'xxx' as 'xxx' or import 'xxx' as 'xxx'\n",
    "# from math import floor as f\n",
    "\n",
    "from math import floor as f, pi as p\n",
    "print(f(p))\n",
    "\n"
   ]
  },
  {
   "cell_type": "markdown",
   "metadata": {},
   "source": [
    "##### Creating a Module"
   ]
  },
  {
   "cell_type": "code",
   "execution_count": 203,
   "metadata": {},
   "outputs": [
    {
     "name": "stdout",
     "output_type": "stream",
     "text": [
      "Hello Mr/Ms Terrell...we've been waiting for you!\n"
     ]
    }
   ],
   "source": [
    "from module import printName as pn\n",
    "\n",
    "pn(\"Terrell\")"
   ]
  },
  {
   "cell_type": "markdown",
   "metadata": {},
   "source": [
    "# Exercises"
   ]
  },
  {
   "cell_type": "markdown",
   "metadata": {},
   "source": [
    "### 1) Build a Shopping Cart <br>\n",
    "<p><b>You can use either lists or dictionaries. The program should have the following capabilities:</b><br><br>\n",
    "1) Takes in input <br>\n",
    "2) Stores user input into a dictionary or list <br>\n",
    "3) The User can add or delete items <br>\n",
    "4) The User can see current shopping list <br>\n",
    "5) The program Loops until user 'quits' <br>\n",
    "6) Upon quiting the program, print out all items in the user's list <br>\n",
    "</p>"
   ]
  },
  {
   "cell_type": "code",
   "execution_count": 7,
   "metadata": {},
   "outputs": [
    {
     "name": "stdout",
     "output_type": "stream",
     "text": [
      "Welcome to Stop and Shop!\n",
      "What would you like to do? type 'basket', 'add', 'remove', or 'quit': add\n",
      "What food would you like to add? apples\n",
      "How many? 4\n",
      "Adding 4 apples to your cart.\n",
      "What would you like to do? type 'basket', 'add', 'remove', or 'quit': add\n",
      "What food would you like to add? bananas\n",
      "How many? 6\n",
      "Adding 6 bananas to your cart.\n",
      "What would you like to do? type 'basket', 'add', 'remove', or 'quit': add\n",
      "What food would you like to add? carrots\n",
      "How many? 20\n",
      "Adding 20 carrots to your cart.\n",
      "What would you like to do? type 'basket', 'add', 'remove', or 'quit': basket\n",
      "Here's what you have in your basket: [('apples', '4'), ('bananas', '6'), ('carrots', '20')]\n",
      "What would you like to do? type 'basket', 'add', 'remove', or 'quit': remove\n",
      "What would you like to remove? carrots\n",
      "How many carrots would you like to remove? 10\n",
      "You have removed 10 carrots from your basket.\n",
      "What would you like to do? type 'basket', 'add', 'remove', or 'quit': bakset\n",
      "What would you like to do? type 'basket', 'add', 'remove', or 'quit': basket\n",
      "Here's what you have in your basket: [('apples', '4'), ('bananas', '6'), ('carrots', 10)]\n",
      "What would you like to do? type 'basket', 'add', 'remove', or 'quit': remove\n",
      "What would you like to remove? apples\n",
      "How many apples would you like to remove? 4\n",
      "You have removed 4 apples from your basket.\n",
      "What would you like to do? type 'basket', 'add', 'remove', or 'quit': basket\n",
      "Here's what you have in your basket: [('bananas', '6'), ('carrots', 10)]\n",
      "What would you like to do? type 'basket', 'add', 'remove', or 'quit': quit\n",
      "Thank you for shopping with us!\n",
      "{'bananas': '6', 'carrots': 10}\n"
     ]
    }
   ],
   "source": [
    "from IPython.display import clear_output\n",
    "\n",
    "# Ask the user four bits of input: Do you want to : Show/Add/Delete or Quit?\n",
    "def grocery_list():\n",
    "    grocery_list = dict()\n",
    "    print(\"Welcome to Stop and Shop!\")\n",
    "    while True:\n",
    "        shop = input(\"What would you like to do? type 'basket', 'add', 'remove', or 'quit': \")\n",
    "        if shop != 'quit':\n",
    "            if shop.lower() == 'add':\n",
    "                add = input(\"What food would you like to add? \")\n",
    "                quantity = input(\"How many? \")\n",
    "                if add.lower() != 'quit':\n",
    "                    print(f\"Adding {quantity} {add} to your cart.\")\n",
    "                    grocery_list[add] = quantity\n",
    "                    \n",
    "#                     keep_shopping = input(\"Would you like to add more? 'Y' or 'N' \")\n",
    "#                     if keep_shopping.lower() == 'Y':\n",
    "#                         True\n",
    "#                     if keep_shopping.lower() == 'N':\n",
    "#                         break.. False??\n",
    "# would like tips for making this work! was able to get the 'Y' to work/repeat \"add\" input; \n",
    "# however, not sure how to get the 'N' to take user back to original \"shop\" input question. \n",
    "                    \n",
    "                if add.lower() == 'quit':\n",
    "                    break\n",
    "                    \n",
    "            if shop.lower() == 'remove':\n",
    "                remove = input(\"What would you like to remove? \")\n",
    "                how_many = input(\"How many \" + remove + \" would you like to remove? \")\n",
    "                print(\"You have removed \" + how_many + \" \" + remove + \" from your basket.\")\n",
    "                grocery_list[remove] = int(grocery_list.get(remove)) - int(how_many)\n",
    "                if grocery_list[remove] == 0 :\n",
    "                    del grocery_list[remove]\n",
    "                if remove.lower() == 'quit':\n",
    "                    break\n",
    "            if shop == 'basket':\n",
    "                print(f\"Here's what you have in your basket: {(list(grocery_list.items()))}\")\n",
    "\n",
    "                \n",
    "        if shop.lower() == 'quit':\n",
    "            print(\"Thank you for shopping with us!\")\n",
    "            print(grocery_list)\n",
    "            break \n",
    "    \n",
    "        \n",
    "grocery_list()"
   ]
  },
  {
   "cell_type": "code",
   "execution_count": null,
   "metadata": {},
   "outputs": [],
   "source": []
  },
  {
   "cell_type": "markdown",
   "metadata": {},
   "source": [
    "### 2) Create a Module in VS Code and Import It into jupyter notebook <br>\n",
    "<p><b>Module should have the following capabilities:</b><br><br>\n",
    "1) Has a function to calculate the square footage of a house <br>\n",
    "    <b>Reminder of Formula: Length X Width == Area<br>\n",
    "        <hr>\n",
    "2) Has a function to calculate the circumference of a circle <br><br>\n",
    "<b>Program in Jupyter Notebook should take in user input and use imported functions to calculate a circle's circumference or a houses square footage</b>\n",
    "</p>"
   ]
  },
  {
   "cell_type": "code",
   "execution_count": 1,
   "metadata": {},
   "outputs": [
    {
     "data": {
      "text/plain": [
       "200000"
      ]
     },
     "execution_count": 1,
     "metadata": {},
     "output_type": "execute_result"
    }
   ],
   "source": [
    "from sqft_module import square_footage as sqft\n",
    "sqft(400,500)"
   ]
  },
  {
   "cell_type": "code",
   "execution_count": 1,
   "metadata": {},
   "outputs": [
    {
     "data": {
      "text/plain": [
       "314.1592653589793"
      ]
     },
     "execution_count": 1,
     "metadata": {},
     "output_type": "execute_result"
    }
   ],
   "source": [
    "from circle import circle as radius\n",
    "radius(50)"
   ]
  },
  {
   "cell_type": "code",
   "execution_count": null,
   "metadata": {},
   "outputs": [],
   "source": []
  }
 ],
 "metadata": {
  "kernelspec": {
   "display_name": "Python 3 (ipykernel)",
   "language": "python",
   "name": "python3"
  },
  "language_info": {
   "codemirror_mode": {
    "name": "ipython",
    "version": 3
   },
   "file_extension": ".py",
   "mimetype": "text/x-python",
   "name": "python",
   "nbconvert_exporter": "python",
   "pygments_lexer": "ipython3",
   "version": "3.9.7"
  }
 },
 "nbformat": 4,
 "nbformat_minor": 2
}
